{
 "cells": [
  {
   "cell_type": "markdown",
   "metadata": {},
   "source": [
    "## Hypothesis Test\n",
    "\n",
    "**Null Hypothesis**\n",
    "  \n",
    "  Which is the normal situation and based on a test we get to:\n",
    "  **Significance / Confidence**\n",
    "         * if we come up with a conclusion of less or higher probability of 5% we can reject or accept the `Null Hypothesis`;"
   ]
  },
  {
   "cell_type": "markdown",
   "metadata": {},
   "source": [
    "* One-tail we check the 5% confidence level;\n",
    "* Two-tail we need to check the value again a certain devation from the expected value;\n",
    "* A confidence level of 5% means that only 1/20 time we will commit a mistake;\n",
    "* With a data of 1000 tries, but a confidence level of 1% or 0.01 means that I'll have 10 of 1000 wrong calls; means that 1% of chance of being wrong in any call;\n",
    "* I go with 99% confidence, which coincides with 3sigma (3 standard deviations), for a two-tailed test;"
   ]
  },
  {
   "cell_type": "markdown",
   "metadata": {},
   "source": [
    "**How to link our data to the confidence level?**\n",
    "\n",
    "Critical values / p-values\n",
    "Z-score / standard score: how many deviation you are from the mean?\n",
    "3 sigma (3 std) == Z-score of 3;"
   ]
  },
  {
   "cell_type": "code",
   "execution_count": null,
   "metadata": {},
   "outputs": [],
   "source": []
  }
 ],
 "metadata": {
  "kernelspec": {
   "display_name": "Python 3",
   "language": "python",
   "name": "python3"
  },
  "language_info": {
   "codemirror_mode": {
    "name": "ipython",
    "version": 3
   },
   "file_extension": ".py",
   "mimetype": "text/x-python",
   "name": "python",
   "nbconvert_exporter": "python",
   "pygments_lexer": "ipython3",
   "version": "3.8.2"
  }
 },
 "nbformat": 4,
 "nbformat_minor": 4
}
