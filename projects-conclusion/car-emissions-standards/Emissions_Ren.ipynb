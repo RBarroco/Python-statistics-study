{
 "cells": [
  {
   "cell_type": "markdown",
   "metadata": {},
   "source": [
    "# Emission Standards\n",
    "\n",
    "New vehicles have to pass emission standards, which have been constantly tightening. Your job is to take the testing report and determine whether or not the vehicle passes the test, and with what confidence.\n",
    "\n",
    "Simply because I am an Aussie, let's use the latest Australian Emission requirements [here](https://infrastructure.gov.au/vehicles/environment/emission/files/Emission_Standards_for_Petrol_Cars.pdf).\n",
    "\n",
    "It says that the maximum CO content is 1.0g/kg. Emission data samples are located in `emission_small.txt` and `emission_large.txt`. We'll analyse both datasets independently."
   ]
  },
  {
   "cell_type": "code",
   "execution_count": null,
   "metadata": {},
   "outputs": [],
   "source": []
  }
 ],
 "metadata": {
  "kernelspec": {
   "display_name": "Python 3",
   "language": "python",
   "name": "python3"
  },
  "language_info": {
   "codemirror_mode": {
    "name": "ipython",
    "version": 3
   },
   "file_extension": ".py",
   "mimetype": "text/x-python",
   "name": "python",
   "nbconvert_exporter": "python",
   "pygments_lexer": "ipython3",
   "version": "3.8.2"
  }
 },
 "nbformat": 4,
 "nbformat_minor": 4
}
